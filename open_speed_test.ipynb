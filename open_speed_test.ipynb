{
 "cells": [
  {
   "cell_type": "code",
   "execution_count": 1,
   "metadata": {},
   "outputs": [],
   "source": [
    "# Imports required to test opening image speed\n",
    "from tqdm.notebook import tqdm\n",
    "from PIL import Image\n",
    "\n",
    "# Special imports for the hdf5 file\n",
    "import h5py\n",
    "import io\n",
    "\n",
    "# Special imports for loading from directory\n",
    "import os"
   ]
  },
  {
   "cell_type": "code",
   "execution_count": 2,
   "metadata": {},
   "outputs": [
    {
     "data": {
      "application/vnd.jupyter.widget-view+json": {
       "model_id": "6488a74f5f43450a9a365ba92683077b",
       "version_major": 2,
       "version_minor": 0
      },
      "text/plain": [
       "  0%|          | 0/401059 [00:00<?, ?it/s]"
      ]
     },
     "metadata": {},
     "output_type": "display_data"
    }
   ],
   "source": [
    "# Opening the hdf5 file\n",
    "def load_hdf5(path):\n",
    "    with h5py.File(path, \"r\") as f:\n",
    "        keys = list(f.keys())\n",
    "        for key in tqdm(keys):\n",
    "            img_data = f.get(key)[()]\n",
    "            img_bytes = io.BytesIO(img_data)\n",
    "            image = Image.open(img_bytes)\n",
    "\n",
    "load_hdf5(\"Data/train-image.hdf5\")"
   ]
  },
  {
   "cell_type": "code",
   "execution_count": 3,
   "metadata": {},
   "outputs": [
    {
     "data": {
      "application/vnd.jupyter.widget-view+json": {
       "model_id": "e1af0f1ee9e5409c8b496a4bdf101309",
       "version_major": 2,
       "version_minor": 0
      },
      "text/plain": [
       "  0%|          | 0/401059 [00:00<?, ?it/s]"
      ]
     },
     "metadata": {},
     "output_type": "display_data"
    }
   ],
   "source": [
    "def load_from_directory(path):\n",
    "    files = os.listdir(path)\n",
    "    for file in tqdm(files):\n",
    "        image = Image.open(path + file)\n",
    "\n",
    "load_from_directory(\"Data/train-image/image/\")"
   ]
  },
  {
   "cell_type": "markdown",
   "metadata": {},
   "source": [
    "# Conclusion: Loading Images from the hdf5 file is faster, ~1 minute\n",
    "Loading Images from the directory: ~1.5 minutes 🤮"
   ]
  }
 ],
 "metadata": {
  "kernelspec": {
   "display_name": "kaggle",
   "language": "python",
   "name": "python3"
  },
  "language_info": {
   "codemirror_mode": {
    "name": "ipython",
    "version": 3
   },
   "file_extension": ".py",
   "mimetype": "text/x-python",
   "name": "python",
   "nbconvert_exporter": "python",
   "pygments_lexer": "ipython3",
   "version": "3.11.9"
  }
 },
 "nbformat": 4,
 "nbformat_minor": 2
}
